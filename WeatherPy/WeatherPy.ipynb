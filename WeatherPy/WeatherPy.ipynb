{
 "cells": [
  {
   "cell_type": "markdown",
   "metadata": {},
   "source": [
    "# WeatherPy\n",
    "----\n",
    "\n",
    "#### Note\n",
    "* Instructions have been included for each segment. You do not have to follow them exactly, but they are included to help you think through the steps."
   ]
  },
  {
   "cell_type": "code",
   "execution_count": 1,
   "metadata": {
    "scrolled": true
   },
   "outputs": [],
   "source": [
    "# Dependencies and Setup\n",
    "import matplotlib.pyplot as plt\n",
    "import pandas as pd\n",
    "import numpy as np\n",
    "import requests\n",
    "import time\n",
    "import csv\n",
    "\n",
    "# Import API key\n",
    "from api_keys import api_key\n",
    "\n",
    "# Incorporated citipy to determine city based on latitude and longitude\n",
    "from citipy import citipy\n",
    "\n",
    "# Output File (CSV)\n",
    "output_data_file = \"output_data/cities.csv\"\n",
    "\n",
    "# Range of latitudes and longitudes\n",
    "lat_range = (-90, 90)\n",
    "lng_range = (-180, 180)"
   ]
  },
  {
   "cell_type": "markdown",
   "metadata": {},
   "source": [
    "## Generate Cities List"
   ]
  },
  {
   "cell_type": "code",
   "execution_count": 2,
   "metadata": {},
   "outputs": [
    {
     "name": "stdout",
     "output_type": "stream",
     "text": [
      "city= ushuaia city ID=[3833367] url= https://api.openweathermap.org/data/2.5/weather?q=ushuaia&appid=ef38e2840a6faac5c5b49b00e82b020a&units=imperial\n",
      "city= east%20london city ID=[3833367, 1006984] url= https://api.openweathermap.org/data/2.5/weather?q=east%20london&appid=ef38e2840a6faac5c5b49b00e82b020a&units=imperial\n",
      "city= hasaki city ID=[3833367, 1006984, 2112802] url= https://api.openweathermap.org/data/2.5/weather?q=hasaki&appid=ef38e2840a6faac5c5b49b00e82b020a&units=imperial\n",
      "city= chitral city ID=[3833367, 1006984, 2112802, 1181065] url= https://api.openweathermap.org/data/2.5/weather?q=chitral&appid=ef38e2840a6faac5c5b49b00e82b020a&units=imperial\n",
      "city= yellowknife city ID=[3833367, 1006984, 2112802, 1181065, 6185377] url= https://api.openweathermap.org/data/2.5/weather?q=yellowknife&appid=ef38e2840a6faac5c5b49b00e82b020a&units=imperial\n",
      "city= mataura city ID=[3833367, 1006984, 2112802, 1181065, 6185377, 6201424] url= https://api.openweathermap.org/data/2.5/weather?q=mataura&appid=ef38e2840a6faac5c5b49b00e82b020a&units=imperial\n",
      "city= tuktoyaktuk city ID=[3833367, 1006984, 2112802, 1181065, 6185377, 6201424, 6170031] url= https://api.openweathermap.org/data/2.5/weather?q=tuktoyaktuk&appid=ef38e2840a6faac5c5b49b00e82b020a&units=imperial\n",
      "city= santa%20barbara city ID=[3833367, 1006984, 2112802, 1181065, 6185377, 6201424, 6170031, 5392952] url= https://api.openweathermap.org/data/2.5/weather?q=santa%20barbara&appid=ef38e2840a6faac5c5b49b00e82b020a&units=imperial\n",
      "city= jamestown city ID=[3833367, 1006984, 2112802, 1181065, 6185377, 6201424, 6170031, 5392952, 2069194] url= https://api.openweathermap.org/data/2.5/weather?q=jamestown&appid=ef38e2840a6faac5c5b49b00e82b020a&units=imperial\n",
      "city= sao%20filipe city ID=[3833367, 1006984, 2112802, 1181065, 6185377, 6201424, 6170031, 5392952, 2069194, 3374210] url= https://api.openweathermap.org/data/2.5/weather?q=sao%20filipe&appid=ef38e2840a6faac5c5b49b00e82b020a&units=imperial\n",
      "city= port-gentil city ID=[3833367, 1006984, 2112802, 1181065, 6185377, 6201424, 6170031, 5392952, 2069194, 3374210, 2396518] url= https://api.openweathermap.org/data/2.5/weather?q=port-gentil&appid=ef38e2840a6faac5c5b49b00e82b020a&units=imperial\n",
      "city= pavino city ID=[3833367, 1006984, 2112802, 1181065, 6185377, 6201424, 6170031, 5392952, 2069194, 3374210, 2396518, 1495483] url= https://api.openweathermap.org/data/2.5/weather?q=pavino&appid=ef38e2840a6faac5c5b49b00e82b020a&units=imperial\n",
      "city= albany city ID=[3833367, 1006984, 2112802, 1181065, 6185377, 6201424, 6170031, 5392952, 2069194, 3374210, 2396518, 1495483, 5106834] url= https://api.openweathermap.org/data/2.5/weather?q=albany&appid=ef38e2840a6faac5c5b49b00e82b020a&units=imperial\n",
      "city= rikitea city ID=[3833367, 1006984, 2112802, 1181065, 6185377, 6201424, 6170031, 5392952, 2069194, 3374210, 2396518, 1495483, 5106834, 4030556] url= https://api.openweathermap.org/data/2.5/weather?q=rikitea&appid=ef38e2840a6faac5c5b49b00e82b020a&units=imperial\n",
      "city= vila%20franca%20do%20campo city ID=[3833367, 1006984, 2112802, 1181065, 6185377, 6201424, 6170031, 5392952, 2069194, 3374210, 2396518, 1495483, 5106834, 4030556, 3372472] url= https://api.openweathermap.org/data/2.5/weather?q=vila%20franca%20do%20campo&appid=ef38e2840a6faac5c5b49b00e82b020a&units=imperial\n",
      "city= kapaa city ID=[3833367, 1006984, 2112802, 1181065, 6185377, 6201424, 6170031, 5392952, 2069194, 3374210, 2396518, 1495483, 5106834, 4030556, 3372472, 5848280] url= https://api.openweathermap.org/data/2.5/weather?q=kapaa&appid=ef38e2840a6faac5c5b49b00e82b020a&units=imperial\n",
      "city= newcastle city ID=[3833367, 1006984, 2112802, 1181065, 6185377, 6201424, 6170031, 5392952, 2069194, 3374210, 2396518, 1495483, 5106834, 4030556, 3372472, 5848280, 2155472] url= https://api.openweathermap.org/data/2.5/weather?q=newcastle&appid=ef38e2840a6faac5c5b49b00e82b020a&units=imperial\n",
      "city= flinders city ID=[3833367, 1006984, 2112802, 1181065, 6185377, 6201424, 6170031, 5392952, 2069194, 3374210, 2396518, 1495483, 5106834, 4030556, 3372472, 5848280, 2155472, 6255012] url= https://api.openweathermap.org/data/2.5/weather?q=flinders&appid=ef38e2840a6faac5c5b49b00e82b020a&units=imperial\n",
      "city= new%20norfolk city ID=[3833367, 1006984, 2112802, 1181065, 6185377, 6201424, 6170031, 5392952, 2069194, 3374210, 2396518, 1495483, 5106834, 4030556, 3372472, 5848280, 2155472, 6255012, 2155415] url= https://api.openweathermap.org/data/2.5/weather?q=new%20norfolk&appid=ef38e2840a6faac5c5b49b00e82b020a&units=imperial\n",
      "city= cidreira city ID=[3833367, 1006984, 2112802, 1181065, 6185377, 6201424, 6170031, 5392952, 2069194, 3374210, 2396518, 1495483, 5106834, 4030556, 3372472, 5848280, 2155472, 6255012, 2155415, 3466165] url= https://api.openweathermap.org/data/2.5/weather?q=cidreira&appid=ef38e2840a6faac5c5b49b00e82b020a&units=imperial\n",
      "city= katsuura city ID=[3833367, 1006984, 2112802, 1181065, 6185377, 6201424, 6170031, 5392952, 2069194, 3374210, 2396518, 1495483, 5106834, 4030556, 3372472, 5848280, 2155472, 6255012, 2155415, 3466165, 1865309] url= https://api.openweathermap.org/data/2.5/weather?q=katsuura&appid=ef38e2840a6faac5c5b49b00e82b020a&units=imperial\n",
      "city= fairbanks city ID=[3833367, 1006984, 2112802, 1181065, 6185377, 6201424, 6170031, 5392952, 2069194, 3374210, 2396518, 1495483, 5106834, 4030556, 3372472, 5848280, 2155472, 6255012, 2155415, 3466165, 1865309, 5861897] url= https://api.openweathermap.org/data/2.5/weather?q=fairbanks&appid=ef38e2840a6faac5c5b49b00e82b020a&units=imperial\n",
      "city= hobart city ID=[3833367, 1006984, 2112802, 1181065, 6185377, 6201424, 6170031, 5392952, 2069194, 3374210, 2396518, 1495483, 5106834, 4030556, 3372472, 5848280, 2155472, 6255012, 2155415, 3466165, 1865309, 5861897, 2163355] url= https://api.openweathermap.org/data/2.5/weather?q=hobart&appid=ef38e2840a6faac5c5b49b00e82b020a&units=imperial\n",
      "city= port%20macquarie city ID=[3833367, 1006984, 2112802, 1181065, 6185377, 6201424, 6170031, 5392952, 2069194, 3374210, 2396518, 1495483, 5106834, 4030556, 3372472, 5848280, 2155472, 6255012, 2155415, 3466165, 1865309, 5861897, 2163355, 2152659] url= https://api.openweathermap.org/data/2.5/weather?q=port%20macquarie&appid=ef38e2840a6faac5c5b49b00e82b020a&units=imperial\n"
     ]
    },
    {
     "ename": "KeyError",
     "evalue": "'main'",
     "output_type": "error",
     "traceback": [
      "\u001b[1;31m---------------------------------------------------------------------------\u001b[0m",
      "\u001b[1;31mKeyError\u001b[0m                                  Traceback (most recent call last)",
      "\u001b[1;32m<ipython-input-2-c4a7b62fde06>\u001b[0m in \u001b[0;36m<module>\u001b[1;34m\u001b[0m\n\u001b[0;32m     31\u001b[0m         \u001b[0mresponse\u001b[0m\u001b[1;33m\u001b[0m\u001b[1;33m\u001b[0m\u001b[0m\n\u001b[0;32m     32\u001b[0m \u001b[1;33m\u001b[0m\u001b[0m\n\u001b[1;32m---> 33\u001b[1;33m         \u001b[0mtemp\u001b[0m\u001b[1;33m.\u001b[0m\u001b[0mappend\u001b[0m\u001b[1;33m(\u001b[0m\u001b[0mresponse\u001b[0m\u001b[1;33m[\u001b[0m\u001b[1;34m'main'\u001b[0m\u001b[1;33m]\u001b[0m\u001b[1;33m[\u001b[0m\u001b[1;34m'temp'\u001b[0m\u001b[1;33m]\u001b[0m\u001b[1;33m)\u001b[0m\u001b[1;33m\u001b[0m\u001b[1;33m\u001b[0m\u001b[0m\n\u001b[0m\u001b[0;32m     34\u001b[0m         \u001b[0mtemp\u001b[0m\u001b[1;33m\u001b[0m\u001b[1;33m\u001b[0m\u001b[0m\n\u001b[0;32m     35\u001b[0m \u001b[1;33m\u001b[0m\u001b[0m\n",
      "\u001b[1;31mKeyError\u001b[0m: 'main'"
     ]
    }
   ],
   "source": [
    "# List for holding lat_lngs and cities\n",
    "lat_lngs = []\n",
    "cities = []\n",
    "temp = []\n",
    "humidity = []\n",
    "city_name = []\n",
    "clouds = []\n",
    "latitude = []\n",
    "winds = []\n",
    "city_id = []\n",
    "query_url_list = []\n",
    "\n",
    "# Create a set of random lat and lng combinations\n",
    "lats = np.random.uniform(low=-90.000, high=90.000, size=1500)\n",
    "lngs = np.random.uniform(low=-180.000, high=180.000, size=1500)\n",
    "lat_lngs = zip(lats, lngs)\n",
    "\n",
    "# Identify nearest city for each lat, lng combination\n",
    "for lat_lng in lat_lngs:\n",
    "    city = citipy.nearest_city(lat_lng[0], lat_lng[1]).city_name\n",
    "    \n",
    "    # If the city is unique, then add it to a our cities list\n",
    "    if city not in cities:\n",
    "        cities.append(city)\n",
    "        \n",
    "        city = city.replace(' ', '%20')\n",
    "        \n",
    "        query_url = 'https://api.openweathermap.org/data/2.5/weather?q=' + city + '&appid=' + api_key + '&units=imperial'\n",
    "        \n",
    "        response = requests.get(f\"{query_url}\").json() \n",
    "        response\n",
    "\n",
    "        temp.append(response['main']['temp'])\n",
    "        temp\n",
    "        \n",
    "        humidity.append(response['main']['humidity'])\n",
    "        humidity\n",
    "        \n",
    "        clouds.append(response['clouds']['all'])\n",
    "        clouds\n",
    "\n",
    "        winds.append(response['wind']['speed'])\n",
    "        winds\n",
    "\n",
    "        city_name.append(response['name'])\n",
    "        city\n",
    "\n",
    "        city_id.append(response['id'])\n",
    "        city_id\n",
    "        \n",
    "        latitude.append(response['coord']['lat'])\n",
    "        latitude\n",
    "        \n",
    "        query_url_list.append(query_url)\n",
    "        \n",
    "        print(f\"city= {city} city ID={city_id} url= {query_url}\")\n",
    "        \n",
    "        time.sleep(13.01)\n",
    "        \n",
    "        csvData = [['City', city_name], ['City ID', city_id], ['URL', query_url_list]]\n",
    "        with open(output_data_file, 'w') as csvFile:\n",
    "            writer = csv.writer(csvFile)\n",
    "            writer.writerows(csvData)\n",
    "        csvFile.close()"
   ]
  },
  {
   "cell_type": "markdown",
   "metadata": {},
   "source": [
    "### Perform API Calls\n",
    "* Perform a weather check on each city using a series of successive API calls.\n",
    "* Include a print log of each city as it'sbeing processed (with the city number and city name).\n"
   ]
  },
  {
   "cell_type": "code",
   "execution_count": null,
   "metadata": {},
   "outputs": [],
   "source": []
  },
  {
   "cell_type": "markdown",
   "metadata": {},
   "source": [
    "### Convert Raw Data to DataFrame\n",
    "* Export the city data into a .csv.\n",
    "* Display the DataFrame"
   ]
  },
  {
   "cell_type": "code",
   "execution_count": null,
   "metadata": {},
   "outputs": [],
   "source": [
    "weather_data = {\n",
    "    \"City\": city_name,\n",
    "    \"Cloudiness\":clouds, \n",
    "    \"Humidity\": humidity,\n",
    "    \"Latitude\":latitude, \n",
    "    \"Wind Speed\":winds,\n",
    "    \"Temperature\":temp,\n",
    "    \"City_ID\":city_id,\n",
    "    \"URL\":query_url_list\n",
    "}\n",
    "\n",
    "weather_data_df = pd.DataFrame(weather_data)\n",
    "weather_data_df\n"
   ]
  },
  {
   "cell_type": "code",
   "execution_count": null,
   "metadata": {},
   "outputs": [],
   "source": [
    "weather_data_df.to_csv(output_data_file)"
   ]
  },
  {
   "cell_type": "markdown",
   "metadata": {},
   "source": [
    "### Plotting the Data\n",
    "* Use proper labeling of the plots using plot titles (including date of analysis) and axes labels.\n",
    "* Save the plotted figures as .pngs."
   ]
  },
  {
   "cell_type": "markdown",
   "metadata": {},
   "source": [
    "#### Latitude vs. Temperature Plot"
   ]
  },
  {
   "cell_type": "code",
   "execution_count": null,
   "metadata": {},
   "outputs": [],
   "source": [
    "plt.title('Latitude vs. Temperature Plot')\n",
    "plt.xlabel('Latitude')\n",
    "plt.ylabel('Temperature (F)')\n",
    "\n",
    "plt.scatter( weather_data_df['Latitude'], weather_data_df['Temperature'], marker=\"o\", s=10)\n",
    "plt.savefig('lat_vs_temp.png')\n",
    "plt.show()\n"
   ]
  },
  {
   "cell_type": "markdown",
   "metadata": {},
   "source": [
    "#### Latitude vs. Humidity Plot"
   ]
  },
  {
   "cell_type": "code",
   "execution_count": null,
   "metadata": {},
   "outputs": [],
   "source": [
    "plt.title('Latitude vs. Humidity Plot')\n",
    "plt.xlabel('Latitude')\n",
    "plt.ylabel('Humidity')\n",
    "\n",
    "plt.scatter( weather_data_df['Latitude'], weather_data_df['Humidity'], marker=\"o\", s=10)\n",
    "plt.savefig('lat_vs_humidity.png')\n",
    "\n",
    "plt.show()"
   ]
  },
  {
   "cell_type": "markdown",
   "metadata": {},
   "source": [
    "#### Latitude vs. Cloudiness Plot"
   ]
  },
  {
   "cell_type": "code",
   "execution_count": null,
   "metadata": {},
   "outputs": [],
   "source": [
    "plt.title('Latitude vs. Cloudiness Plot')\n",
    "plt.xlabel('Latitude')\n",
    "plt.ylabel('Cloudiness')\n",
    "\n",
    "plt.scatter( weather_data_df['Latitude'], weather_data_df['Cloudiness'], marker=\"o\", s=10)\n",
    "plt.savefig('lat_vs_cloudiness.png')\n",
    "\n",
    "plt.show()"
   ]
  },
  {
   "cell_type": "markdown",
   "metadata": {},
   "source": [
    "#### Latitude vs. Wind Speed Plot"
   ]
  },
  {
   "cell_type": "code",
   "execution_count": null,
   "metadata": {},
   "outputs": [],
   "source": [
    "plt.title('Latitude vs. Wind Speed Plot')\n",
    "plt.xlabel('Latitude')\n",
    "plt.ylabel('Wind Speed')\n",
    "\n",
    "plt.scatter( weather_data_df['Latitude'], weather_data_df['Wind Speed'], marker=\"o\", s=10)\n",
    "plt.savefig('lat_vs_windspeed.png')\n",
    "plt.show()"
   ]
  },
  {
   "cell_type": "code",
   "execution_count": null,
   "metadata": {},
   "outputs": [],
   "source": []
  },
  {
   "cell_type": "code",
   "execution_count": null,
   "metadata": {},
   "outputs": [],
   "source": []
  }
 ],
 "metadata": {
  "anaconda-cloud": {},
  "kernel_info": {
   "name": "python3"
  },
  "kernelspec": {
   "display_name": "Python 3",
   "language": "python",
   "name": "python3"
  },
  "language_info": {
   "codemirror_mode": {
    "name": "ipython",
    "version": 3
   },
   "file_extension": ".py",
   "mimetype": "text/x-python",
   "name": "python",
   "nbconvert_exporter": "python",
   "pygments_lexer": "ipython3",
   "version": "3.6.9"
  },
  "nteract": {
   "version": "0.12.3"
  }
 },
 "nbformat": 4,
 "nbformat_minor": 2
}
